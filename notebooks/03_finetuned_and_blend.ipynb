{
 "cells": [
  {
   "cell_type": "markdown",
   "id": "92c05e11-108f-44c4-842e-39693edc7b11",
   "metadata": {},
   "source": [
    "### Train a ViT regressor (5-fold) and emit OOF/TEST preds"
   ]
  },
  {
   "cell_type": "code",
   "execution_count": 1,
   "id": "a011c96f-de1f-422e-a20e-c99e2f7c1898",
   "metadata": {},
   "outputs": [
    {
     "name": "stderr",
     "output_type": "stream",
     "text": [
      "/tmp/ipykernel_5013/4075788695.py:21: FutureWarning: `torch.cuda.amp.GradScaler(args...)` is deprecated. Please use `torch.amp.GradScaler('cuda', args...)` instead.\n",
      "  scaler = torch.cuda.amp.GradScaler(enabled=(device==\"cuda\"))\n"
     ]
    },
    {
     "name": "stdout",
     "output_type": "stream",
     "text": [
      "\n",
      "===== Fold 1 =====\n"
     ]
    },
    {
     "name": "stderr",
     "output_type": "stream",
     "text": [
      "  0%|          | 0/248 [00:00<?, ?it/s]/tmp/ipykernel_5013/4075788695.py:64: FutureWarning: `torch.cuda.amp.autocast(args...)` is deprecated. Please use `torch.amp.autocast('cuda', args...)` instead.\n",
      "  with torch.cuda.amp.autocast(enabled=(device==\"cuda\")):\n",
      "  0%|          | 0/62 [00:00<?, ?it/s]/tmp/ipykernel_5013/4075788695.py:80: FutureWarning: `torch.cuda.amp.autocast(args...)` is deprecated. Please use `torch.amp.autocast('cuda', args...)` instead.\n",
      "  with torch.cuda.amp.autocast(enabled=(device==\"cuda\")):\n",
      "                                               "
     ]
    },
    {
     "name": "stdout",
     "output_type": "stream",
     "text": [
      "Epoch 1: train_loss=0.7665 | val_RMSE=22.4000\n"
     ]
    },
    {
     "name": "stderr",
     "output_type": "stream",
     "text": [
      "                                                 "
     ]
    },
    {
     "name": "stdout",
     "output_type": "stream",
     "text": [
      "Epoch 2: train_loss=0.6713 | val_RMSE=21.0283\n"
     ]
    },
    {
     "name": "stderr",
     "output_type": "stream",
     "text": [
      "                                                 "
     ]
    },
    {
     "name": "stdout",
     "output_type": "stream",
     "text": [
      "Epoch 3: train_loss=0.6702 | val_RMSE=21.3528\n"
     ]
    },
    {
     "name": "stderr",
     "output_type": "stream",
     "text": [
      "                                                 "
     ]
    },
    {
     "name": "stdout",
     "output_type": "stream",
     "text": [
      "Epoch 4: train_loss=0.6684 | val_RMSE=22.5960\n"
     ]
    },
    {
     "name": "stderr",
     "output_type": "stream",
     "text": [
      "                                                 "
     ]
    },
    {
     "name": "stdout",
     "output_type": "stream",
     "text": [
      "Epoch 5: train_loss=0.6672 | val_RMSE=21.2462\n"
     ]
    },
    {
     "name": "stderr",
     "output_type": "stream",
     "text": [
      "                                                 "
     ]
    },
    {
     "name": "stdout",
     "output_type": "stream",
     "text": [
      "Epoch 6: train_loss=0.6678 | val_RMSE=21.0315\n",
      "Best fold RMSE: 21.0283\n"
     ]
    },
    {
     "name": "stderr",
     "output_type": "stream",
     "text": [
      "                                               "
     ]
    },
    {
     "name": "stdout",
     "output_type": "stream",
     "text": [
      "\n",
      "===== Fold 2 =====\n"
     ]
    },
    {
     "name": "stderr",
     "output_type": "stream",
     "text": [
      "                                                 "
     ]
    },
    {
     "name": "stdout",
     "output_type": "stream",
     "text": [
      "Epoch 1: train_loss=0.7458 | val_RMSE=21.4845\n"
     ]
    },
    {
     "name": "stderr",
     "output_type": "stream",
     "text": [
      "                                                 "
     ]
    },
    {
     "name": "stdout",
     "output_type": "stream",
     "text": [
      "Epoch 2: train_loss=0.6720 | val_RMSE=20.5382\n"
     ]
    },
    {
     "name": "stderr",
     "output_type": "stream",
     "text": [
      "                                                 "
     ]
    },
    {
     "name": "stdout",
     "output_type": "stream",
     "text": [
      "Epoch 3: train_loss=0.6725 | val_RMSE=20.5966\n"
     ]
    },
    {
     "name": "stderr",
     "output_type": "stream",
     "text": [
      "                                                 "
     ]
    },
    {
     "name": "stdout",
     "output_type": "stream",
     "text": [
      "Epoch 4: train_loss=0.6677 | val_RMSE=20.5624\n"
     ]
    },
    {
     "name": "stderr",
     "output_type": "stream",
     "text": [
      "                                                 "
     ]
    },
    {
     "name": "stdout",
     "output_type": "stream",
     "text": [
      "Epoch 5: train_loss=0.6706 | val_RMSE=25.7686\n"
     ]
    },
    {
     "name": "stderr",
     "output_type": "stream",
     "text": [
      "                                                 "
     ]
    },
    {
     "name": "stdout",
     "output_type": "stream",
     "text": [
      "Epoch 6: train_loss=0.6703 | val_RMSE=20.6824\n",
      "Best fold RMSE: 20.5382\n"
     ]
    },
    {
     "name": "stderr",
     "output_type": "stream",
     "text": [
      "                                               "
     ]
    },
    {
     "name": "stdout",
     "output_type": "stream",
     "text": [
      "\n",
      "===== Fold 3 =====\n"
     ]
    },
    {
     "name": "stderr",
     "output_type": "stream",
     "text": [
      "                                                 "
     ]
    },
    {
     "name": "stdout",
     "output_type": "stream",
     "text": [
      "Epoch 1: train_loss=0.7398 | val_RMSE=20.6498\n"
     ]
    },
    {
     "name": "stderr",
     "output_type": "stream",
     "text": [
      "                                                 "
     ]
    },
    {
     "name": "stdout",
     "output_type": "stream",
     "text": [
      "Epoch 2: train_loss=0.6713 | val_RMSE=20.2451\n"
     ]
    },
    {
     "name": "stderr",
     "output_type": "stream",
     "text": [
      "                                                 "
     ]
    },
    {
     "name": "stdout",
     "output_type": "stream",
     "text": [
      "Epoch 3: train_loss=0.6697 | val_RMSE=20.3899\n"
     ]
    },
    {
     "name": "stderr",
     "output_type": "stream",
     "text": [
      "                                                 "
     ]
    },
    {
     "name": "stdout",
     "output_type": "stream",
     "text": [
      "Epoch 4: train_loss=0.6703 | val_RMSE=20.0585\n"
     ]
    },
    {
     "name": "stderr",
     "output_type": "stream",
     "text": [
      "                                                 "
     ]
    },
    {
     "name": "stdout",
     "output_type": "stream",
     "text": [
      "Epoch 5: train_loss=0.6694 | val_RMSE=20.2984\n"
     ]
    },
    {
     "name": "stderr",
     "output_type": "stream",
     "text": [
      "                                                 "
     ]
    },
    {
     "name": "stdout",
     "output_type": "stream",
     "text": [
      "Epoch 6: train_loss=0.6680 | val_RMSE=20.0670\n",
      "Best fold RMSE: 20.0585\n"
     ]
    },
    {
     "name": "stderr",
     "output_type": "stream",
     "text": [
      "                                               "
     ]
    },
    {
     "name": "stdout",
     "output_type": "stream",
     "text": [
      "\n",
      "===== Fold 4 =====\n"
     ]
    },
    {
     "name": "stderr",
     "output_type": "stream",
     "text": [
      "                                                 "
     ]
    },
    {
     "name": "stdout",
     "output_type": "stream",
     "text": [
      "Epoch 1: train_loss=0.7271 | val_RMSE=20.5512\n"
     ]
    },
    {
     "name": "stderr",
     "output_type": "stream",
     "text": [
      "                                                 "
     ]
    },
    {
     "name": "stdout",
     "output_type": "stream",
     "text": [
      "Epoch 2: train_loss=0.6718 | val_RMSE=20.5529\n"
     ]
    },
    {
     "name": "stderr",
     "output_type": "stream",
     "text": [
      "                                                 "
     ]
    },
    {
     "name": "stdout",
     "output_type": "stream",
     "text": [
      "Epoch 3: train_loss=0.6732 | val_RMSE=20.7039\n"
     ]
    },
    {
     "name": "stderr",
     "output_type": "stream",
     "text": [
      "                                                 "
     ]
    },
    {
     "name": "stdout",
     "output_type": "stream",
     "text": [
      "Epoch 4: train_loss=0.6675 | val_RMSE=20.7708\n"
     ]
    },
    {
     "name": "stderr",
     "output_type": "stream",
     "text": [
      "                                                 "
     ]
    },
    {
     "name": "stdout",
     "output_type": "stream",
     "text": [
      "Epoch 5: train_loss=0.6698 | val_RMSE=21.6838\n"
     ]
    },
    {
     "name": "stderr",
     "output_type": "stream",
     "text": [
      "                                                 "
     ]
    },
    {
     "name": "stdout",
     "output_type": "stream",
     "text": [
      "Epoch 6: train_loss=0.6667 | val_RMSE=20.5132\n",
      "Best fold RMSE: 20.5132\n"
     ]
    },
    {
     "name": "stderr",
     "output_type": "stream",
     "text": [
      "                                               "
     ]
    },
    {
     "name": "stdout",
     "output_type": "stream",
     "text": [
      "\n",
      "===== Fold 5 =====\n"
     ]
    },
    {
     "name": "stderr",
     "output_type": "stream",
     "text": [
      "                                                 "
     ]
    },
    {
     "name": "stdout",
     "output_type": "stream",
     "text": [
      "Epoch 1: train_loss=0.7338 | val_RMSE=20.8532\n"
     ]
    },
    {
     "name": "stderr",
     "output_type": "stream",
     "text": [
      "                                                 "
     ]
    },
    {
     "name": "stdout",
     "output_type": "stream",
     "text": [
      "Epoch 2: train_loss=0.6709 | val_RMSE=20.6634\n"
     ]
    },
    {
     "name": "stderr",
     "output_type": "stream",
     "text": [
      "                                                 "
     ]
    },
    {
     "name": "stdout",
     "output_type": "stream",
     "text": [
      "Epoch 3: train_loss=0.6658 | val_RMSE=21.3546\n"
     ]
    },
    {
     "name": "stderr",
     "output_type": "stream",
     "text": [
      "                                                 "
     ]
    },
    {
     "name": "stdout",
     "output_type": "stream",
     "text": [
      "Epoch 4: train_loss=0.6684 | val_RMSE=20.8871\n"
     ]
    },
    {
     "name": "stderr",
     "output_type": "stream",
     "text": [
      "                                                 "
     ]
    },
    {
     "name": "stdout",
     "output_type": "stream",
     "text": [
      "Epoch 5: train_loss=0.6672 | val_RMSE=20.7788\n"
     ]
    },
    {
     "name": "stderr",
     "output_type": "stream",
     "text": [
      "                                                 "
     ]
    },
    {
     "name": "stdout",
     "output_type": "stream",
     "text": [
      "Epoch 6: train_loss=0.6684 | val_RMSE=20.6385\n",
      "Best fold RMSE: 20.6385\n"
     ]
    },
    {
     "name": "stderr",
     "output_type": "stream",
     "text": [
      "                                               "
     ]
    },
    {
     "name": "stdout",
     "output_type": "stream",
     "text": [
      "Saved FINETUNED_vitb16_384_{train,test}.npy\n"
     ]
    },
    {
     "name": "stderr",
     "output_type": "stream",
     "text": []
    }
   ],
   "source": [
    "# === Finetune ViT-B/16 @384 on Pawpularity (BCEWithLogits on y/100) ===\n",
    "from pathlib import Path\n",
    "import numpy as np, pandas as pd, torch, timm, math, time\n",
    "from torch import nn\n",
    "from torch.utils.data import Dataset, DataLoader, Subset\n",
    "from PIL import Image\n",
    "from tqdm import tqdm\n",
    "from timm.data import create_transform\n",
    "try:\n",
    "    from timm.data import resolve_data_config\n",
    "except:\n",
    "    from timm.data import resolve_model_data_config as resolve_data_config\n",
    "from sklearn.model_selection import KFold\n",
    "\n",
    "ROOT = Path(\"/workspace/pet-finder\")\n",
    "DATA = ROOT/\"data\"/\"raw\"\n",
    "PROC = ROOT/\"data\"/\"processed\"; PROC.mkdir(parents=True, exist_ok=True)\n",
    "\n",
    "device = \"cuda\" if torch.cuda.is_available() else \"cpu\"\n",
    "torch.backends.cudnn.benchmark = (device == \"cuda\")\n",
    "scaler = torch.cuda.amp.GradScaler(enabled=(device==\"cuda\"))\n",
    "\n",
    "# --- IDs (same order as your SVR step) ---\n",
    "train_df = pd.read_csv(DATA/\"train.csv\")\n",
    "ids_train = train_df[\"Id\"].astype(str).tolist()\n",
    "ids_test  = sorted(p.stem for p in (DATA/\"test\").glob(\"*.jpg\"))\n",
    "y_all = train_df[\"Pawpularity\"].values.astype(\"float32\") / 100.0  # scale to 0..1\n",
    "\n",
    "# --- Transforms (use model’s cfg; eval tfm for val/test, train tfm for train) ---\n",
    "model_name = \"vit_base_patch16_384\"; img_size = 384\n",
    "_dummy = timm.create_model(model_name, pretrained=True, num_classes=1)\n",
    "cfg = resolve_data_config({}, model=_dummy)\n",
    "def make_tfm(is_train: bool):\n",
    "    C = dict(cfg)  # copy\n",
    "    C.update({\"input_size\": (3, img_size, img_size), \"is_training\": is_train})\n",
    "    return create_transform(**C)\n",
    "\n",
    "tfm_train = make_tfm(True)\n",
    "tfm_eval  = make_tfm(False)\n",
    "\n",
    "# --- Dataset ---\n",
    "class PetDataset(Dataset):\n",
    "    def __init__(self, split, ids, targets=None, tfm=None):\n",
    "        self.split, self.ids, self.targets, self.tfm = split, ids, targets, tfm\n",
    "        self.root = DATA/split\n",
    "    def __len__(self): return len(self.ids)\n",
    "    def __getitem__(self, i):\n",
    "        sid = self.ids[i]\n",
    "        img = Image.open(self.root/f\"{sid}.jpg\").convert(\"RGB\")\n",
    "        x = self.tfm(img)\n",
    "        if self.targets is None: return x, sid\n",
    "        return x, self.targets[i]\n",
    "\n",
    "# --- Training helpers ---\n",
    "def rmse_np(a, b):  # a,b are numpy arrays\n",
    "    return float(np.sqrt(np.mean((a - b)**2)))\n",
    "\n",
    "def train_one_epoch(model, loader, opt, loss_fn):\n",
    "    model.train()\n",
    "    total = 0.0\n",
    "    for xb, yb in tqdm(loader, leave=False):\n",
    "        xb, yb = xb.to(device), yb.to(device)\n",
    "        opt.zero_grad(set_to_none=True)\n",
    "        with torch.cuda.amp.autocast(enabled=(device==\"cuda\")):\n",
    "            logits = model(xb).squeeze(-1)\n",
    "            loss = loss_fn(logits, yb)\n",
    "        scaler.scale(loss).backward()\n",
    "        scaler.step(opt)\n",
    "        scaler.update()\n",
    "        total += loss.item() * xb.size(0)\n",
    "    return total / len(loader.dataset)\n",
    "\n",
    "@torch.no_grad()\n",
    "def predict(model, loader, tta_hflip=True):\n",
    "    model.eval()\n",
    "    preds = []\n",
    "    for xb in tqdm(loader, leave=False):\n",
    "        if isinstance(xb, (list, tuple)): xb = xb[0]\n",
    "        xb = xb.to(device)\n",
    "        with torch.cuda.amp.autocast(enabled=(device==\"cuda\")):\n",
    "            logits = model(xb).squeeze(-1)\n",
    "            if tta_hflip:\n",
    "                logits = 0.5*logits + 0.5*model(torch.flip(xb, dims=[-1])).squeeze(-1)\n",
    "        preds.append(torch.sigmoid(logits).float().cpu().numpy() * 100.0)  # back to 0..100\n",
    "    return np.concatenate(preds)\n",
    "\n",
    "# --- 5-fold CV (same KFold seed/logic as SVR) ---\n",
    "EPOCHS = 6\n",
    "BATCH  = 32\n",
    "LR     = 2e-4\n",
    "WD     = 1e-4\n",
    "\n",
    "oof = np.zeros(len(ids_train), dtype=\"float32\")\n",
    "test_pred_accum = np.zeros(len(ids_test), dtype=\"float32\")\n",
    "\n",
    "kf = KFold(n_splits=5, shuffle=True, random_state=42)\n",
    "for fold, (tr_idx, va_idx) in enumerate(kf.split(ids_train), 1):\n",
    "    print(f\"\\n===== Fold {fold} =====\")\n",
    "    # datasets\n",
    "    ds_tr = PetDataset(\"train\", [ids_train[i] for i in tr_idx], y_all[tr_idx], tfm_train)\n",
    "    ds_va = PetDataset(\"train\", [ids_train[i] for i in va_idx], y_all[va_idx], tfm_eval)\n",
    "    ds_te = PetDataset(\"test\",  ids_test, None, tfm_eval)\n",
    "\n",
    "    dl_tr = DataLoader(ds_tr, batch_size=BATCH, shuffle=True,  num_workers=4, pin_memory=True)\n",
    "    dl_va = DataLoader(ds_va, batch_size=BATCH, shuffle=False, num_workers=4, pin_memory=True)\n",
    "    dl_te = DataLoader(ds_te, batch_size=BATCH, shuffle=False, num_workers=4, pin_memory=True)\n",
    "\n",
    "    # model, opt, loss\n",
    "    model = timm.create_model(model_name, pretrained=True, num_classes=1).to(device)\n",
    "    opt   = torch.optim.AdamW(model.parameters(), lr=LR, weight_decay=WD)\n",
    "    loss_fn = nn.BCEWithLogitsLoss()\n",
    "\n",
    "    best_rmse, best_state = float(\"inf\"), None\n",
    "    for epoch in range(1, EPOCHS+1):\n",
    "        tr_loss = train_one_epoch(model, dl_tr, opt, loss_fn)\n",
    "        # val\n",
    "        va_pred = predict(model, dl_va)              # 0..100\n",
    "        va_true = (y_all[va_idx] * 100.0).astype(\"float32\")\n",
    "        rmse = rmse_np(va_true, va_pred)\n",
    "        print(f\"Epoch {epoch}: train_loss={tr_loss:.4f} | val_RMSE={rmse:.4f}\")\n",
    "        if rmse < best_rmse:\n",
    "            best_rmse = rmse\n",
    "            best_state = {k: v.detach().cpu() for k, v in model.state_dict().items()}\n",
    "    print(f\"Best fold RMSE: {best_rmse:.4f}\")\n",
    "\n",
    "    # load best and produce final val/test preds\n",
    "    if best_state is not None:\n",
    "        model.load_state_dict(best_state, strict=False)\n",
    "    oof[va_idx] = predict(model, dl_va)\n",
    "    test_pred_accum += predict(model, dl_te) / kf.get_n_splits()\n",
    "\n",
    "# Save finetuned predictions for blending\n",
    "np.save(PROC/\"FINETUNED_vitb16_384_train.npy\", oof.astype(\"float32\"))\n",
    "np.save(PROC/\"FINETUNED_vitb16_384_test.npy\",  test_pred_accum.astype(\"float32\"))\n",
    "print(\"Saved FINETUNED_vitb16_384_{train,test}.npy\")"
   ]
  },
  {
   "cell_type": "markdown",
   "id": "2f6a53d4-6473-4a7d-9a56-cb792812bd1c",
   "metadata": {},
   "source": [
    "### Blend the finetuned model with your SVR stack (OOF-based weights)"
   ]
  },
  {
   "cell_type": "code",
   "execution_count": 2,
   "id": "06e35bfd-1c5a-4a7d-a3ab-dd630ed69c84",
   "metadata": {},
   "outputs": [
    {
     "name": "stdout",
     "output_type": "stream",
     "text": [
      "Blend weights: [0.95943797 0.1476404 ] intercept: -2.800251\n"
     ]
    },
    {
     "data": {
      "text/html": [
       "<div>\n",
       "<style scoped>\n",
       "    .dataframe tbody tr th:only-of-type {\n",
       "        vertical-align: middle;\n",
       "    }\n",
       "\n",
       "    .dataframe tbody tr th {\n",
       "        vertical-align: top;\n",
       "    }\n",
       "\n",
       "    .dataframe thead th {\n",
       "        text-align: right;\n",
       "    }\n",
       "</style>\n",
       "<table border=\"1\" class=\"dataframe\">\n",
       "  <thead>\n",
       "    <tr style=\"text-align: right;\">\n",
       "      <th></th>\n",
       "      <th>Id</th>\n",
       "      <th>Pawpularity</th>\n",
       "    </tr>\n",
       "  </thead>\n",
       "  <tbody>\n",
       "    <tr>\n",
       "      <th>0</th>\n",
       "      <td>4128bae22183829d2b5fea10effdb0c3</td>\n",
       "      <td>37.312897</td>\n",
       "    </tr>\n",
       "    <tr>\n",
       "      <th>1</th>\n",
       "      <td>43a2262d7738e3d420d453815151079e</td>\n",
       "      <td>37.429646</td>\n",
       "    </tr>\n",
       "    <tr>\n",
       "      <th>2</th>\n",
       "      <td>4e429cead1848a298432a0acad014c9d</td>\n",
       "      <td>37.291924</td>\n",
       "    </tr>\n",
       "    <tr>\n",
       "      <th>3</th>\n",
       "      <td>80bc3ccafcc51b66303c2c263aa38486</td>\n",
       "      <td>37.230270</td>\n",
       "    </tr>\n",
       "    <tr>\n",
       "      <th>4</th>\n",
       "      <td>8f49844c382931444e68dffbe20228f4</td>\n",
       "      <td>37.337021</td>\n",
       "    </tr>\n",
       "  </tbody>\n",
       "</table>\n",
       "</div>"
      ],
      "text/plain": [
       "                                 Id  Pawpularity\n",
       "0  4128bae22183829d2b5fea10effdb0c3    37.312897\n",
       "1  43a2262d7738e3d420d453815151079e    37.429646\n",
       "2  4e429cead1848a298432a0acad014c9d    37.291924\n",
       "3  80bc3ccafcc51b66303c2c263aa38486    37.230270\n",
       "4  8f49844c382931444e68dffbe20228f4    37.337021"
      ]
     },
     "execution_count": 2,
     "metadata": {},
     "output_type": "execute_result"
    }
   ],
   "source": [
    "from pathlib import Path\n",
    "import numpy as np, pandas as pd\n",
    "from sklearn.linear_model import Ridge\n",
    "\n",
    "ROOT = Path(\"/workspace/pet-finder\")\n",
    "DATA = ROOT/\"data\"/\"raw\"\n",
    "PROC = ROOT/\"data\"/\"processed\"\n",
    "\n",
    "y = pd.read_csv(DATA/\"train.csv\")[\"Pawpularity\"].values.astype(\"float32\")\n",
    "ids_test  = sorted(p.stem for p in (DATA/\"test\").glob(\"*.jpg\"))\n",
    "\n",
    "# Load OOF/TEST columns\n",
    "oof_svr  = np.load(PROC/\"SVR_oof.npy\")\n",
    "test_svr = np.load(PROC/\"SVR_test.npy\")\n",
    "oof_ft   = np.load(PROC/\"FINETUNED_vitb16_384_train.npy\")\n",
    "test_ft  = np.load(PROC/\"FINETUNED_vitb16_384_test.npy\")\n",
    "\n",
    "X_oof  = np.vstack([oof_svr, oof_ft]).T\n",
    "X_test = np.vstack([test_svr, test_ft]).T\n",
    "\n",
    "# Small ridge to stabilize weights; intercept allowed\n",
    "blender = Ridge(alpha=1e-3, fit_intercept=True)\n",
    "blender.fit(X_oof, y)\n",
    "print(\"Blend weights:\", blender.coef_, \"intercept:\", blender.intercept_)\n",
    "\n",
    "final = blender.predict(X_test)\n",
    "# GM-style calibration + bounds\n",
    "final = np.clip(1.032 * final, 0, 100)\n",
    "\n",
    "sub = pd.DataFrame({\"Id\": ids_test, \"Pawpularity\": final})\n",
    "sub.to_csv(\"submission_blend.csv\", index=False)\n",
    "sub.head()"
   ]
  }
 ],
 "metadata": {
  "kernelspec": {
   "display_name": "Python3 (ipykernel)",
   "language": "python",
   "name": "python3"
  },
  "language_info": {
   "codemirror_mode": {
    "name": "ipython",
    "version": 3
   },
   "file_extension": ".py",
   "mimetype": "text/x-python",
   "name": "python",
   "nbconvert_exporter": "python",
   "pygments_lexer": "ipython3",
   "version": "3.12.11"
  }
 },
 "nbformat": 4,
 "nbformat_minor": 5
}
