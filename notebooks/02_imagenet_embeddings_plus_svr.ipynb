{
 "cells": [
  {
   "cell_type": "markdown",
   "id": "e79e69ec-fdb8-4183-a284-fa1039afc913",
   "metadata": {},
   "source": [
    "### Extract ImageNet “1k-logit” features (feature factory)"
   ]
  },
  {
   "cell_type": "code",
   "execution_count": 2,
   "id": "26560a78-fe9c-438f-8509-1330e2c7eb72",
   "metadata": {},
   "outputs": [
    {
     "name": "stdout",
     "output_type": "stream",
     "text": [
      "Device: cuda\n"
     ]
    },
    {
     "name": "stderr",
     "output_type": "stream",
     "text": [
      "vit_base_patch16_384-train:   0%|          | 0/9912 [00:00<?, ?it/s]/tmp/ipykernel_4091/1308057994.py:56: FutureWarning: `torch.cuda.amp.autocast(args...)` is deprecated. Please use `torch.amp.autocast('cuda', args...)` instead.\n",
      "  with torch.cuda.amp.autocast(enabled=(device == \"cuda\")):\n",
      "vit_base_patch16_384-train: 100%|██████████| 9912/9912 [01:36<00:00, 102.78it/s]\n"
     ]
    },
    {
     "data": {
      "application/vnd.jupyter.widget-view+json": {
       "model_id": "5645be3538f74e5d9e1cd5f6d33c820d",
       "version_major": 2,
       "version_minor": 0
      },
      "text/plain": [
       "model.safetensors:   0%|          | 0.00/351M [00:00<?, ?B/s]"
      ]
     },
     "metadata": {},
     "output_type": "display_data"
    },
    {
     "name": "stderr",
     "output_type": "stream",
     "text": [
      "deit_base_distilled_patch16_384-train:   0%|          | 0/9912 [00:00<?, ?it/s]/tmp/ipykernel_4091/1308057994.py:56: FutureWarning: `torch.cuda.amp.autocast(args...)` is deprecated. Please use `torch.amp.autocast('cuda', args...)` instead.\n",
      "  with torch.cuda.amp.autocast(enabled=(device == \"cuda\")):\n",
      "deit_base_distilled_patch16_384-train: 100%|██████████| 9912/9912 [01:35<00:00, 103.34it/s]\n",
      "/venv/main/lib/python3.12/site-packages/timm/models/_factory.py:138: UserWarning: Mapping deprecated model name tf_efficientnet_l2_ns_475 to current tf_efficientnet_l2.ns_jft_in1k_475.\n",
      "  model = create_fn(\n"
     ]
    },
    {
     "data": {
      "application/vnd.jupyter.widget-view+json": {
       "model_id": "72ec98aa60714010b52483dfb63433da",
       "version_major": 2,
       "version_minor": 0
      },
      "text/plain": [
       "model.safetensors:   0%|          | 0.00/1.93G [00:00<?, ?B/s]"
      ]
     },
     "metadata": {},
     "output_type": "display_data"
    },
    {
     "name": "stderr",
     "output_type": "stream",
     "text": [
      "tf_efficientnet_l2_ns_475-train:   0%|          | 0/9912 [00:00<?, ?it/s]/tmp/ipykernel_4091/1308057994.py:56: FutureWarning: `torch.cuda.amp.autocast(args...)` is deprecated. Please use `torch.amp.autocast('cuda', args...)` instead.\n",
      "  with torch.cuda.amp.autocast(enabled=(device == \"cuda\")):\n",
      "tf_efficientnet_l2_ns_475-train: 100%|██████████| 9912/9912 [06:35<00:00, 25.04it/s]\n",
      "vit_base_patch16_384-test: 100%|██████████| 8/8 [00:00<00:00, 166.67it/s]\n",
      "deit_base_distilled_patch16_384-test: 100%|██████████| 8/8 [00:00<00:00, 168.51it/s]\n",
      "/venv/main/lib/python3.12/site-packages/timm/models/_factory.py:138: UserWarning: Mapping deprecated model name tf_efficientnet_l2_ns_475 to current tf_efficientnet_l2.ns_jft_in1k_475.\n",
      "  model = create_fn(\n",
      "tf_efficientnet_l2_ns_475-test: 100%|██████████| 8/8 [00:00<00:00, 27.80it/s]"
     ]
    },
    {
     "name": "stdout",
     "output_type": "stream",
     "text": [
      "Stack shapes: (9912, 3000) (8, 3000)\n"
     ]
    },
    {
     "name": "stderr",
     "output_type": "stream",
     "text": [
      "\n"
     ]
    }
   ],
   "source": [
    "from pathlib import Path\n",
    "import numpy as np, pandas as pd, torch, timm\n",
    "from PIL import Image\n",
    "from tqdm import tqdm\n",
    "from timm.data import create_transform\n",
    "try:\n",
    "    # most timm versions\n",
    "    from timm.data import resolve_data_config\n",
    "except Exception:\n",
    "    # older alias fallback\n",
    "    from timm.data import resolve_model_data_config as resolve_data_config\n",
    "\n",
    "ROOT = Path(\"/workspace/pet-finder\")\n",
    "DATA = ROOT / \"data\" / \"raw\"\n",
    "PROC = ROOT / \"data\" / \"processed\"; PROC.mkdir(parents=True, exist_ok=True)\n",
    "\n",
    "device = \"cuda\" if torch.cuda.is_available() else (\"mps\" if torch.backends.mps.is_available() else \"cpu\")\n",
    "torch.set_grad_enabled(False)\n",
    "print(\"Device:\", device)\n",
    "\n",
    "def ids_for(split):\n",
    "    if split == \"train\":\n",
    "        # keep train order identical to train.csv to align y with rows\n",
    "        return pd.read_csv(DATA / \"train.csv\")[\"Id\"].astype(str).tolist()\n",
    "    # keep test order stable and repeatable\n",
    "    return sorted(p.stem for p in (DATA / \"test\").glob(\"*.jpg\"))\n",
    "\n",
    "BACKBONES = [\n",
    "    (\"vit_base_patch16_384\", 384),\n",
    "    (\"deit_base_distilled_patch16_384\", 384),\n",
    "    (\"tf_efficientnet_l2_ns_475\", 475),\n",
    "]\n",
    "TTA_HFLIP = True  # simple & effective\n",
    "\n",
    "def make_transform(model, img_size: int):\n",
    "    # FIX: do NOT pass input_size twice; override inside cfg and pass once\n",
    "    cfg = resolve_data_config({}, model=model)\n",
    "    cfg.update({\n",
    "        \"input_size\": (3, img_size, img_size),\n",
    "        \"is_training\": False,   # eval-time transforms\n",
    "    })\n",
    "    return create_transform(**cfg)\n",
    "\n",
    "def extract_logits(model_name, img_size, split):\n",
    "    out = PROC / f\"{model_name}_{split}_logits.npy\"\n",
    "    if out.exists():\n",
    "        return np.load(out)\n",
    "\n",
    "    model = timm.create_model(model_name, pretrained=True).eval().to(device)\n",
    "    tfm = make_transform(model, img_size)\n",
    "\n",
    "    feats, id_list = [], ids_for(split)\n",
    "    for sid in tqdm(id_list, desc=f\"{model_name}-{split}\"):\n",
    "        img = Image.open(DATA / split / f\"{sid}.jpg\").convert(\"RGB\")\n",
    "        x = tfm(img).unsqueeze(0).to(device)\n",
    "        with torch.cuda.amp.autocast(enabled=(device == \"cuda\")):\n",
    "            y = model(x)\n",
    "            if TTA_HFLIP:\n",
    "                y = 0.5 * (y + model(torch.flip(x, dims=[-1])))\n",
    "        feats.append(y.squeeze(0).float().cpu().numpy())\n",
    "\n",
    "    feats = np.stack(feats, 0).astype(\"float16\")  # compact cache\n",
    "    np.save(out, feats)\n",
    "    return feats\n",
    "\n",
    "def build_stack(split):\n",
    "    mats = [extract_logits(n, s, split) for (n, s) in BACKBONES]\n",
    "    # (optional) append your cached CLIP embeddings from the first notebook\n",
    "    clip_cache = PROC / f\"clip_vitb32_{split}.npy\"\n",
    "    if clip_cache.exists():\n",
    "        print(f\"Appending CLIP cache: {clip_cache.name}\")\n",
    "        mats.append(np.load(clip_cache))\n",
    "    X = np.concatenate(mats, axis=1).astype(\"float32\")  # float32 for SVR stability\n",
    "    np.save(PROC / f\"STACK_{split}.npy\", X)\n",
    "    return X\n",
    "\n",
    "X_tr = build_stack(\"train\")\n",
    "X_te = build_stack(\"test\")\n",
    "print(\"Stack shapes:\", X_tr.shape, X_te.shape)  # ~ (9912, 3000–4000+), (~8k, 3000–4000+)\n"
   ]
  },
  {
   "cell_type": "markdown",
   "id": "08cfb0cb-fa91-4097-bc6a-f7e9cd6d0875",
   "metadata": {},
   "source": [
    "### Train SVR (RBF) with 5-fold CV and save OOF/TEST preds"
   ]
  },
  {
   "cell_type": "code",
   "execution_count": 5,
   "id": "a29188c3-cccf-4d4e-8bef-d9a4f53815a0",
   "metadata": {},
   "outputs": [
    {
     "name": "stdout",
     "output_type": "stream",
     "text": [
      "Using RAPIDS cuML SVR\n",
      "Fold 1 RMSE: 17.27574\n",
      "Fold 2 RMSE: 17.69399\n",
      "Fold 3 RMSE: 17.15335\n",
      "Fold 4 RMSE: 17.07812\n",
      "Fold 5 RMSE: 17.63782\n",
      "CV RMSE (OOF): 17.36966\n"
     ]
    }
   ],
   "source": [
    "from sklearn.model_selection import KFold\n",
    "from sklearn.metrics import mean_squared_error  # still fine to import\n",
    "import numpy as np, pandas as pd\n",
    "\n",
    "y = pd.read_csv(DATA/\"train.csv\")[\"Pawpularity\"].values.astype(\"float32\")\n",
    "X_tr = np.load(PROC/\"STACK_train.npy\"); X_te = np.load(PROC/\"STACK_test.npy\")\n",
    "\n",
    "# Try RAPIDS cuML; fall back to scikit-learn\n",
    "USE_CUML = False\n",
    "try:\n",
    "    from cuml.svm import SVR as cuSVR\n",
    "    USE_CUML = True\n",
    "    print(\"Using RAPIDS cuML SVR\")\n",
    "except Exception:\n",
    "    from sklearn.svm import SVR as skSVR\n",
    "    from sklearn.preprocessing import StandardScaler\n",
    "    from sklearn.pipeline import make_pipeline\n",
    "    print(\"Using scikit-learn SVR\")\n",
    "\n",
    "def asnumpy(x):\n",
    "    \"\"\"Return a NumPy array whether x is NumPy or CuPy.\"\"\"\n",
    "    try:\n",
    "        import cupy as cp\n",
    "        if isinstance(x, cp.ndarray):\n",
    "            return cp.asnumpy(x)\n",
    "    except Exception:\n",
    "        pass\n",
    "    return np.asarray(x)\n",
    "\n",
    "cv = KFold(n_splits=5, shuffle=True, random_state=42)\n",
    "oof = np.zeros(len(y), dtype=\"float32\")\n",
    "test_pred = np.zeros(len(X_te), dtype=\"float32\")\n",
    "\n",
    "for fold, (tr, va) in enumerate(cv.split(X_tr), 1):\n",
    "    if USE_CUML:\n",
    "        # per-fold standardization (no leakage)\n",
    "        mu, sd = X_tr[tr].mean(0), X_tr[tr].std(0) + 1e-6\n",
    "        Xtr, Xva, Xte = (X_tr[tr]-mu)/sd, (X_tr[va]-mu)/sd, (X_te-mu)/sd\n",
    "        model = cuSVR(kernel=\"rbf\", C=16.0, epsilon=0.1, max_iter=4000)\n",
    "        model.fit(Xtr, y[tr])\n",
    "        pred_va = asnumpy(model.predict(Xva)).astype(\"float32\", copy=False)\n",
    "        pred_te = asnumpy(model.predict(Xte)).astype(\"float32\", copy=False)\n",
    "    else:\n",
    "        model = make_pipeline(\n",
    "            StandardScaler(with_mean=True, with_std=True),\n",
    "            skSVR(kernel=\"rbf\", C=10.0, epsilon=0.1, gamma=\"scale\", max_iter=4000),\n",
    "        )\n",
    "        model.fit(X_tr[tr], y[tr])\n",
    "        pred_va = model.predict(X_tr[va]).astype(\"float32\", copy=False)\n",
    "        pred_te = model.predict(X_te).astype(\"float32\", copy=False)\n",
    "\n",
    "    oof[va] = pred_va\n",
    "    test_pred += pred_te / cv.get_n_splits()\n",
    "\n",
    "    # Manual RMSE (avoid squared= kwarg)\n",
    "    fold_rmse = float(np.sqrt(np.mean((y[va] - pred_va)**2)))\n",
    "    print(f\"Fold {fold} RMSE: {fold_rmse:.5f}\")\n",
    "\n",
    "# Overall CV RMSE\n",
    "rmse = float(np.sqrt(np.mean((y - oof)**2)))\n",
    "print(f\"CV RMSE (OOF): {rmse:.5f}\")\n",
    "\n",
    "np.save(PROC/\"SVR_oof.npy\", oof)\n",
    "np.save(PROC/\"SVR_test.npy\", test_pred)\n"
   ]
  },
  {
   "cell_type": "markdown",
   "id": "24e39c71-7f08-47ce-923b-2c201e2cb1f6",
   "metadata": {},
   "source": [
    "### Light calibration + submission"
   ]
  },
  {
   "cell_type": "code",
   "execution_count": 6,
   "id": "d060fbe8-0b8c-459d-9441-1b0d7d23653d",
   "metadata": {},
   "outputs": [
    {
     "data": {
      "text/html": [
       "<div>\n",
       "<style scoped>\n",
       "    .dataframe tbody tr th:only-of-type {\n",
       "        vertical-align: middle;\n",
       "    }\n",
       "\n",
       "    .dataframe tbody tr th {\n",
       "        vertical-align: top;\n",
       "    }\n",
       "\n",
       "    .dataframe thead th {\n",
       "        text-align: right;\n",
       "    }\n",
       "</style>\n",
       "<table border=\"1\" class=\"dataframe\">\n",
       "  <thead>\n",
       "    <tr style=\"text-align: right;\">\n",
       "      <th></th>\n",
       "      <th>Id</th>\n",
       "      <th>Pawpularity</th>\n",
       "    </tr>\n",
       "  </thead>\n",
       "  <tbody>\n",
       "    <tr>\n",
       "      <th>0</th>\n",
       "      <td>4128bae22183829d2b5fea10effdb0c3</td>\n",
       "      <td>36.215462</td>\n",
       "    </tr>\n",
       "    <tr>\n",
       "      <th>1</th>\n",
       "      <td>43a2262d7738e3d420d453815151079e</td>\n",
       "      <td>36.337147</td>\n",
       "    </tr>\n",
       "    <tr>\n",
       "      <th>2</th>\n",
       "      <td>4e429cead1848a298432a0acad014c9d</td>\n",
       "      <td>36.200581</td>\n",
       "    </tr>\n",
       "    <tr>\n",
       "      <th>3</th>\n",
       "      <td>80bc3ccafcc51b66303c2c263aa38486</td>\n",
       "      <td>36.137867</td>\n",
       "    </tr>\n",
       "    <tr>\n",
       "      <th>4</th>\n",
       "      <td>8f49844c382931444e68dffbe20228f4</td>\n",
       "      <td>36.242157</td>\n",
       "    </tr>\n",
       "  </tbody>\n",
       "</table>\n",
       "</div>"
      ],
      "text/plain": [
       "                                 Id  Pawpularity\n",
       "0  4128bae22183829d2b5fea10effdb0c3    36.215462\n",
       "1  43a2262d7738e3d420d453815151079e    36.337147\n",
       "2  4e429cead1848a298432a0acad014c9d    36.200581\n",
       "3  80bc3ccafcc51b66303c2c263aa38486    36.137867\n",
       "4  8f49844c382931444e68dffbe20228f4    36.242157"
      ]
     },
     "execution_count": 6,
     "metadata": {},
     "output_type": "execute_result"
    }
   ],
   "source": [
    "final = np.clip(1.032 * np.load(PROC/\"SVR_test.npy\"), 0, 100)\n",
    "sub = pd.DataFrame({\"Id\": ids_for(\"test\"), \"Pawpularity\": final})\n",
    "sub.to_csv(\"submission.csv\", index=False)\n",
    "sub.head()"
   ]
  },
  {
   "cell_type": "markdown",
   "id": "8616cb2d-ed73-488b-bdcc-8b9ee9a562d3",
   "metadata": {},
   "source": []
  }
 ],
 "metadata": {
  "kernelspec": {
   "display_name": "Python3 (ipykernel)",
   "language": "python",
   "name": "python3"
  },
  "language_info": {
   "codemirror_mode": {
    "name": "ipython",
    "version": 3
   },
   "file_extension": ".py",
   "mimetype": "text/x-python",
   "name": "python",
   "nbconvert_exporter": "python",
   "pygments_lexer": "ipython3",
   "version": "3.12.11"
  }
 },
 "nbformat": 4,
 "nbformat_minor": 5
}
